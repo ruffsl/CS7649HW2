{
 "metadata": {
  "name": "",
  "signature": "sha256:09f7bea93e66b3301f28610ec9f9a33e1b10aa35e1f37f69a75101e16c26f7c6"
 },
 "nbformat": 3,
 "nbformat_minor": 0,
 "worksheets": [
  {
   "cells": [
    {
     "cell_type": "code",
     "collapsed": false,
     "input": [
      "import numpy as np\n",
      "import matplotlib.patches as patches"
     ],
     "language": "python",
     "metadata": {},
     "outputs": [],
     "prompt_number": 1
    },
    {
     "cell_type": "code",
     "collapsed": false,
     "input": [
      "class scene(): \n",
      "    def __init__(self):\n",
      "        self.obstacles = []\n",
      "        \n",
      "    def addObstacle(self, obstacle):\n",
      "        self.obstacles.append(obstacle)\n",
      "        \n",
      "    def checkForObstacles(xy):\n",
      "        for obstacle in self.obstacles:\n",
      "            if obstacle.isOccupied(xy):\n",
      "                return True\n",
      "        return False"
     ],
     "language": "python",
     "metadata": {},
     "outputs": [],
     "prompt_number": 2
    },
    {
     "cell_type": "code",
     "collapsed": false,
     "input": [
      "class rectangle(): \n",
      "    def __init__(self, x, y, r, w, h):\n",
      "        self.x = x\n",
      "        self.y = y\n",
      "        self.r = r\n",
      "        self.w = w\n",
      "        self.h = h\n",
      "        self.w2 = w/2.0\n",
      "        self.h2 = h/2.0\n",
      "        self.setPatch()\n",
      "    \n",
      "    def isOccupied(self, xy):\n",
      "        x, y = xy\n",
      "        x -= self.x\n",
      "        y -= self.y\n",
      "        \n",
      "        x, y = x*np.cos(self.r) - y*np.sin(self.r), x*np.sin(self.r) + y*np.cos(self.r)\n",
      "        \n",
      "        xd = ((-self.w2) < x) and (x < (self.w2))\n",
      "        yd = ((-self.h2) < y) and (y < (self.h2))\n",
      "        \n",
      "        return xd and yd\n",
      "    \n",
      "    def setPatch(self):\n",
      "        x = -self.w2*np.cos(self.r) + self.h2*np.sin(self.r) + self.x\n",
      "        y = -self.w2*np.sin(self.r) - self.h2*np.cos(self.r) + self.y\n",
      "        self.patch = patches.Rectangle(xy=(x,y), width=self.w, height=self.h, angle=np.rad2deg(self.r), color='r')"
     ],
     "language": "python",
     "metadata": {},
     "outputs": [],
     "prompt_number": 3
    },
    {
     "cell_type": "code",
     "collapsed": false,
     "input": [
      "scene0 = scene()\n",
      "\n",
      "# rect1_1 = rectangle(0, 1.3, 1.57, 2, 5)\n",
      "rect1_1 = rectangle(-0.7,  1.3, 1.57, 2, 5)\n",
      "scene1 = scene()\n",
      "scene1.addObstacle(rect1_1)\n",
      "\n",
      "rect2_1 = rectangle(-0.7,  1.3, 1.57, 2, 5)\n",
      "rect2_2 = rectangle( 4.0, -0.9,    0, 2, 1)\n",
      "rect2_3 = rectangle(-2.6, -0.7,    0, 1, 1)\n",
      "scene2 = scene()\n",
      "scene2.addObstacle(rect2_1)\n",
      "scene2.addObstacle(rect2_2)\n",
      "scene2.addObstacle(rect2_3)"
     ],
     "language": "python",
     "metadata": {},
     "outputs": [],
     "prompt_number": 4
    },
    {
     "cell_type": "code",
     "collapsed": false,
     "input": [
      "rect1_1.isOccupied([0,5.3])"
     ],
     "language": "python",
     "metadata": {},
     "outputs": [
      {
       "metadata": {},
       "output_type": "pyout",
       "prompt_number": 5,
       "text": [
        "False"
       ]
      }
     ],
     "prompt_number": 5
    }
   ],
   "metadata": {}
  }
 ]
}