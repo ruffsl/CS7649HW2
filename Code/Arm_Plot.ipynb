{
 "metadata": {
  "name": "",
  "signature": "sha256:1f47d4376994ae753363c704dc2d8eeb4dad77e807dc06957a8ede6e0e22fa97"
 },
 "nbformat": 3,
 "nbformat_minor": 0,
 "worksheets": [
  {
   "cells": [
    {
     "cell_type": "code",
     "collapsed": false,
     "input": [
      "# %matplotlib inline\n",
      "# %pylab\n",
      "import networkx as nx"
     ],
     "language": "python",
     "metadata": {},
     "outputs": [],
     "prompt_number": 4
    },
    {
     "cell_type": "code",
     "collapsed": false,
     "input": [
      "%run Arm3Link.ipynb\n",
      "%run ScratchBook.ipynb"
     ],
     "language": "python",
     "metadata": {},
     "outputs": [
      {
       "output_type": "stream",
       "stream": "stdout",
       "text": [
        "Only one argument is needed\n"
       ]
      }
     ],
     "prompt_number": 9
    },
    {
     "cell_type": "code",
     "collapsed": false,
     "input": [
      "from matplotlib.widgets import Slider\n",
      "# from mpl_toolkits.mplot3d import Axes3D\n",
      "import numpy as np\n",
      "import matplotlib as mpl\n",
      "import matplotlib.pyplot as plt\n",
      "import matplotlib.patches as patches\n",
      "\n",
      "def main():\n",
      "    myRobot=Robot(scene2)\n",
      "\n",
      "class Robot():      \n",
      "    def __init__(self,scene):\n",
      "        self.scene = scene\n",
      "        \n",
      "        '''variable definitions'''\n",
      "        SEGMENTS = int(4) #number of segments\n",
      "        self.arm = Arm3Link()\n",
      "        self.x = np.array([0]*SEGMENTS) #x axis components \n",
      "        self.y = np.array([0]*SEGMENTS) #y axis components\n",
      "        self.a = np.array([0.14,1.45,1.0]) #angle for the link, reference is previous link\n",
      "        \n",
      "        self.fig = plt.figure(\"Robot Simulator\", figsize=[10,10])  #create the frame     \n",
      "        self.ax = plt.axes([0.05, 0.25, 0.95, 0.70], aspect='equal') #3d ax panel\n",
      "        \n",
      "        '''draw widgets'''\n",
      "        #draw a0 slider panel\n",
      "        a0xval = plt.axes([0.15, 0.1, 0.75, 0.03])\n",
      "        a0_val = Slider(a0xval, 'rotation a0', 0.0, 360, valinit=180)\n",
      "        \n",
      "        \n",
      "        #draw a1 slider panel\n",
      "        a1xval = plt.axes([0.15, 0.0575, 0.75, 0.03])\n",
      "        a1_val = Slider(a1xval, 'rotation a1', 0.0, 360, valinit=180)\n",
      "        \n",
      "        \n",
      "        #draw a2 slider panel\n",
      "        a2xval = plt.axes([0.15, 0.015, 0.75, 0.03])\n",
      "        a2_val = Slider(a2xval, 'rotation a2', 0.0, 360, valinit=180)\n",
      "        \n",
      "        \n",
      "        '''widget Event Handlers'''\n",
      "        def update_a0_val(val): # Slider a0 theta Event\n",
      "            self.a[0] = np.deg2rad(val)\n",
      "            self.draw_robot()\n",
      "        a0_val.on_changed(update_a0_val) \n",
      "        \n",
      "        def update_a1_val(val): # Slider a1 theta Event\n",
      "            self.a[1] = np.deg2rad(val)\n",
      "            self.draw_robot()\n",
      "        a1_val.on_changed(update_a1_val) \n",
      "        \n",
      "        def update_a2_val(val): # Slider a2 theta Event\n",
      "            self.a[2] = np.deg2rad(val)\n",
      "            self.draw_robot()\n",
      "        a2_val.on_changed(update_a2_val)\n",
      "        \n",
      "        self.draw_robot()#draw function to draw robot\n",
      "        plt.show()#end of constructor\n",
      "         \n",
      "    '''class fuctions'''                \n",
      "    def calc_x_y(self):#calc x_y Pcoordinates \n",
      "        self.arm.q = self.a\n",
      "        xy = self.arm.get_joint_positions()\n",
      "        self.x = xy[0,:]\n",
      "        self.y = xy[1,:]\n",
      "    \n",
      "    def set_positions(self):#gets the x,y,z values for the line. \n",
      "        #convert arrays to lists for drawing the line\n",
      "        xs = np.array(self.x).tolist()\n",
      "        ys = np.array(self.y).tolist()\n",
      "        self.ax.cla() #clear current axis\n",
      "        #draw new lines,  two lines for \"fancy\" looks\n",
      "        self.ax.plot(xs, ys, 'o-', markersize=4, \n",
      "                     markerfacecolor=\"blue\", linewidth = 0.5, color=\"silver\")\n",
      "        self.ax.plot(xs, ys, 'o-', markersize=4, \n",
      "                     markerfacecolor=\"orange\", linewidth = 4, color=\"blue\")\n",
      "  \n",
      "    def set_ax(self):#ax panel set up\n",
      "        self.ax.set_xlim(-6, 6)\n",
      "        self.ax.set_ylim(-6, 6)\n",
      "        self.ax.set_xlabel('X axis')\n",
      "        self.ax.set_ylabel('Y axis')\n",
      "        self.ax.grid()\n",
      "        self.ax.axis()\n",
      "                        \n",
      "    def draw_robot(self):#draw and update the 3D panel\n",
      "        self.calc_x_y()\n",
      "        self.set_positions()\n",
      "        self.set_ax()\n",
      "        self.set_scene()\n",
      "        plt.draw()\n",
      "    \n",
      "    def set_scene(self):\n",
      "        for obstacle in self.scene.obstacles:\n",
      "            self.ax.add_patch(obstacle.patch)\n",
      "            \n",
      "    def collision_free(self, q):\n",
      "        xy = self.arm.get_xy(q)\n",
      "        for obstacle in self.scene.obstacles:\n",
      "            if obstacle.isOccupied(xy):\n",
      "                return False\n",
      "        return True\n",
      "            \n",
      "if __name__ == '__main__':\n",
      "    main()\n"
     ],
     "language": "python",
     "metadata": {},
     "outputs": [],
     "prompt_number": 10
    },
    {
     "cell_type": "code",
     "collapsed": false,
     "input": [
      "# %run rrt2.ipynb"
     ],
     "language": "python",
     "metadata": {},
     "outputs": []
    },
    {
     "cell_type": "code",
     "collapsed": false,
     "input": [
      "# start = np.array([0.14,1.45,1.0])\n",
      "# goal  = np.array([-2.5,-0.5,-2.1])\n",
      "# tolerance = 10\n",
      "# delta = 1/180.0\n",
      "# robot = Robot(scene2)\n",
      "\n",
      "# rrt = RRT(3,3, robot)\n",
      "# rrt.set_start(start)\n",
      "# rrt.set_goal(goal)\n",
      "# rrt.set_tolerance(tolerance)\n",
      "# rrt.delta = delta\n",
      "# rrt.set_goal_test(goal_test)\n",
      "\n",
      "# rrt.set_collision_check(collision_check)\n",
      "# rrt.set_sample(sample)\n",
      "# rrt.set_same_state(same_state)\n",
      "# rrt.set_distance(distance)\n",
      "\n",
      "# rrt.init_search()"
     ],
     "language": "python",
     "metadata": {},
     "outputs": []
    },
    {
     "cell_type": "code",
     "collapsed": false,
     "input": [
      "# rrt.tree.nodes()"
     ],
     "language": "python",
     "metadata": {},
     "outputs": []
    },
    {
     "cell_type": "code",
     "collapsed": false,
     "input": [
      "# rrt.search(iters=500)\n",
      "\n",
      "# path = rrt.best_solution_(goal)"
     ],
     "language": "python",
     "metadata": {},
     "outputs": []
    },
    {
     "cell_type": "code",
     "collapsed": false,
     "input": [
      "# rrt.sample(rrt)"
     ],
     "language": "python",
     "metadata": {},
     "outputs": []
    },
    {
     "cell_type": "code",
     "collapsed": false,
     "input": [
      "# rrt.tree.nodes()"
     ],
     "language": "python",
     "metadata": {},
     "outputs": []
    },
    {
     "cell_type": "code",
     "collapsed": false,
     "input": [],
     "language": "python",
     "metadata": {},
     "outputs": []
    }
   ],
   "metadata": {}
  }
 ]
}