{
 "metadata": {
  "name": "",
  "signature": "sha256:d0d20e9220425ed8031732b03f8c6f03c1bcfed3afbbae2e6244bc9fac90db3e"
 },
 "nbformat": 3,
 "nbformat_minor": 0,
 "worksheets": [
  {
   "cells": [
    {
     "cell_type": "code",
     "collapsed": false,
     "input": [
      "# %matplotlib inline\n",
      "# %pylab\n",
      "import networkx as nx\n",
      "\n",
      "%matplotlib inline"
     ],
     "language": "python",
     "metadata": {},
     "outputs": [],
     "prompt_number": 1
    },
    {
     "cell_type": "code",
     "collapsed": false,
     "input": [
      "%run Arm3Link.ipynb\n",
      "%run scene.ipynb"
     ],
     "language": "python",
     "metadata": {},
     "outputs": [],
     "prompt_number": 2
    },
    {
     "cell_type": "code",
     "collapsed": false,
     "input": [
      "import numpy as np\n",
      "import matplotlib as mpl\n",
      "import matplotlib.pyplot as plt\n",
      "import matplotlib.patches as patches\n",
      "\n",
      "class Robot():      \n",
      "    def __init__(self,scene,ax=None):\n",
      "        self.scene = scene\n",
      "        \n",
      "        '''variable definitions'''\n",
      "        SEGMENTS = int(4) #number of segments\n",
      "        self.arm = Arm3Link()\n",
      "        self.x = np.array([0]*SEGMENTS) #x axis components \n",
      "        self.y = np.array([0]*SEGMENTS) #y axis components\n",
      "        self.a = np.array([-2.5+2*np.pi,-0.5+2*np.pi,-2.1+2*np.pi]) #angle for the link, reference is previous link\n",
      "        \n",
      "#         if(ax == None):\n",
      "#             self.fig = plt.figure(\"Robot Simulator\", figsize=[10,10])  #create the frame     \n",
      "#             self.ax = plt.axes(aspect='equal')\n",
      "#         else:\n",
      "#             self.ax = ax\n",
      "        self.ax = ax\n",
      "        \n",
      "#         self.draw_robot()#draw function to draw robot\n",
      "#         plt.show()#end of constructor\n",
      "         \n",
      "    '''class fuctions'''                \n",
      "    def calc_x_y(self):#calc x_y Pcoordinates \n",
      "        self.arm.q = self.a\n",
      "        xy = self.arm.get_joint_positions()\n",
      "        self.x = xy[0,:]\n",
      "        self.y = xy[1,:]\n",
      "    \n",
      "    def set_positions(self):#gets the x,y,z values for the line. \n",
      "        #convert arrays to lists for drawing the line\n",
      "        xs = np.array(self.x).tolist()\n",
      "        ys = np.array(self.y).tolist()\n",
      "        self.ax.cla() #clear current axis\n",
      "        #draw new lines,  two lines for \"fancy\" looks\n",
      "        self.ax.plot(xs, ys, 'o-', markersize=4, \n",
      "                     markerfacecolor=\"blue\", linewidth = 0.5, color=\"silver\")\n",
      "        self.ax.plot(xs, ys, 'o-', markersize=4, \n",
      "                     markerfacecolor=\"orange\", linewidth = 4, color=\"blue\")\n",
      "  \n",
      "    def set_ax(self):#ax panel set up\n",
      "        self.ax.set_xlim(-6, 6)\n",
      "        self.ax.set_ylim(-6, 6)\n",
      "        self.ax.set_xlabel('X axis')\n",
      "        self.ax.set_ylabel('Y axis')\n",
      "        self.ax.grid()\n",
      "        self.ax.axis()\n",
      "                        \n",
      "    def draw_robot(self, q=None):#draw and update the 3D panel\n",
      "        if(q is not None):\n",
      "            self.a = q\n",
      "        self.calc_x_y()\n",
      "        self.set_positions()\n",
      "        self.set_scene()\n",
      "        self.set_ax()\n",
      "        plt.draw()\n",
      "    \n",
      "    def set_scene(self):\n",
      "        for obstacle in self.scene.obstacles:\n",
      "            obstacle.setPatch()\n",
      "            self.ax.add_patch(obstacle.patch)\n",
      "    \n",
      "    def subSample(self, xy1, xy2, num):\n",
      "        x = np.linspace(xy1[0], xy2[0], num)[1:-1]\n",
      "        y = np.linspace(xy1[1], xy2[1], num)[1:-1]\n",
      "        return np.array([x,y]).T\n",
      "    \n",
      "#     def collision_free(self, q):\n",
      "#         xy = self.arm.get_xy(q)\n",
      "#         for obstacle in self.scene.obstacles:\n",
      "#             if obstacle.isOccupied(xy):\n",
      "#                 return False\n",
      "#         return True\n",
      "            \n",
      "    def collision_free(self, q):\n",
      "        xys = self.arm.get_joint_positions(q).T\n",
      "        segments = len(xys)-1\n",
      "        for i in range(segments):\n",
      "            lol = self.subSample(xys[i],xys[i+1],5)\n",
      "            xys = np.vstack((xys,lol))\n",
      "#         return xys\n",
      "        for point in range(len(xys)):\n",
      "            for obstacle in self.scene.obstacles:\n",
      "                if obstacle.isOccupied(xys[point]):\n",
      "                    return False\n",
      "        return True\n"
     ],
     "language": "python",
     "metadata": {},
     "outputs": [],
     "prompt_number": 31
    },
    {
     "cell_type": "code",
     "collapsed": false,
     "input": [
      "# %run rrt2.ipynb"
     ],
     "language": "python",
     "metadata": {},
     "outputs": [],
     "prompt_number": 32
    },
    {
     "cell_type": "code",
     "collapsed": false,
     "input": [
      "# start = np.array([0.14,1.45,1.0])\n",
      "# goal  = np.array([-2.5,-0.5,-2.1])\n",
      "# tolerance = 10\n",
      "# delta = 1/180.0\n",
      "# robot = Robot(scene2)\n",
      "\n",
      "# rrt = RRT(3,3, robot)\n",
      "# rrt.set_start(start)\n",
      "# rrt.set_goal(goal)\n",
      "# rrt.set_tolerance(tolerance)\n",
      "# rrt.delta = delta\n",
      "# rrt.set_goal_test(goal_test)\n",
      "\n",
      "# rrt.set_collision_check(collision_check)\n",
      "# rrt.set_sample(sample)\n",
      "# rrt.set_same_state(same_state)\n",
      "# rrt.set_distance(distance)\n",
      "\n",
      "# rrt.init_search()"
     ],
     "language": "python",
     "metadata": {},
     "outputs": [],
     "prompt_number": 33
    },
    {
     "cell_type": "code",
     "collapsed": false,
     "input": [
      "# rrt.tree.nodes()"
     ],
     "language": "python",
     "metadata": {},
     "outputs": [],
     "prompt_number": 34
    },
    {
     "cell_type": "code",
     "collapsed": false,
     "input": [
      "# rrt.search(iters=500)\n",
      "\n",
      "# path = rrt.best_solution_(goal)"
     ],
     "language": "python",
     "metadata": {},
     "outputs": [],
     "prompt_number": 35
    },
    {
     "cell_type": "code",
     "collapsed": false,
     "input": [
      "# rrt.sample(rrt)"
     ],
     "language": "python",
     "metadata": {},
     "outputs": [],
     "prompt_number": 36
    },
    {
     "cell_type": "code",
     "collapsed": false,
     "input": [
      "# rrt.tree.nodes()"
     ],
     "language": "python",
     "metadata": {},
     "outputs": [],
     "prompt_number": 37
    },
    {
     "cell_type": "code",
     "collapsed": false,
     "input": [
      "# robot = Robot(scene2)"
     ],
     "language": "python",
     "metadata": {},
     "outputs": [
      {
       "metadata": {},
       "output_type": "display_data",
       "png": "[encoded data removed]",
       "text": [
        "<matplotlib.figure.Figure at 0x7fc9fa924ed0>"
       ]
      }
     ],
     "prompt_number": 47
    },
    {
     "cell_type": "code",
     "collapsed": false,
     "input": [
      "# fig = plt.figure(\"Robot Simulator\", figsize=[10,10])    \n",
      "# ax = plt.axes(aspect='equal')\n",
      "# robot.ax = ax\n",
      "# lol = robot.draw_robot([ 3.22645994,  1.66475448,  2.83489004])\n",
      "# plt.show()"
     ],
     "language": "python",
     "metadata": {},
     "outputs": [
      {
       "metadata": {},
       "output_type": "display_data",
       "png": "[encoded data removed]",
       "text": [
        "<matplotlib.figure.Figure at 0x7fca195cff10>"
       ]
      }
     ],
     "prompt_number": 46
    },
    {
     "cell_type": "code",
     "collapsed": false,
     "input": [],
     "language": "python",
     "metadata": {},
     "outputs": [],
     "prompt_number": 11
    },
    {
     "cell_type": "code",
     "collapsed": false,
     "input": [
      "# xys = robot.collision_free([-2.5+2*np.pi,-0.5+2*np.pi,-2.1+2*np.pi])\n",
      "# xys"
     ],
     "language": "python",
     "metadata": {},
     "outputs": [],
     "prompt_number": 12
    },
    {
     "cell_type": "code",
     "collapsed": false,
     "input": [
      "# plt.scatter(xys[:,0],xys[:,1])\n",
      "# plt.grid()\n",
      "# plt.show()"
     ],
     "language": "python",
     "metadata": {},
     "outputs": [],
     "prompt_number": 13
    },
    {
     "cell_type": "code",
     "collapsed": false,
     "input": [],
     "language": "python",
     "metadata": {},
     "outputs": [],
     "prompt_number": 13
    }
   ],
   "metadata": {}
  }
 ]
}