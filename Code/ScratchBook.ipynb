{
 "metadata": {
  "name": "",
  "signature": "sha256:8eb38872b1cee17fa5599d4d87369633ce0f6d8c44ea7db39698132ecb8d9db2"
 },
 "nbformat": 3,
 "nbformat_minor": 0,
 "worksheets": [
  {
   "cells": [
    {
     "cell_type": "code",
     "collapsed": false,
     "input": [
      "# import math\n",
      "import numpy as np"
     ],
     "language": "python",
     "metadata": {},
     "outputs": [],
     "prompt_number": 9
    },
    {
     "cell_type": "code",
     "collapsed": false,
     "input": [
      "class scene(): \n",
      "    def __init__(self):\n",
      "        self.obstacles = []\n",
      "        \n",
      "    def addObstacle(self, obstacle):\n",
      "        self.obstacles.append(obstacle)\n",
      "        \n",
      "    def checkForObstacles(xy):\n",
      "        for obstacle in self.obstacles:\n",
      "            if obstacle.isOccupied(xy):\n",
      "                return True\n",
      "        return False"
     ],
     "language": "python",
     "metadata": {},
     "outputs": [],
     "prompt_number": 10
    },
    {
     "cell_type": "code",
     "collapsed": false,
     "input": [
      "class rectangle(): \n",
      "    def __init__(self, x, y, r, w, h):\n",
      "        self.x = x\n",
      "        self.y = y\n",
      "        self.r = r\n",
      "        self.w = w\n",
      "        self.h = h\n",
      "    \n",
      "    def isOccupied(self, xy):\n",
      "        x, y = xy\n",
      "        x -= self.x\n",
      "        y -= self.y\n",
      "        \n",
      "        x, y = x*np.cos(self.r) - y*np.sin(self.r), x*np.sin(self.r) + y*np.cos(self.r)\n",
      "        \n",
      "        xd = ((-self.w) < x) and (x < (self.w))\n",
      "        yd = ((-self.h) < y) and (y < (self.h))\n",
      "        \n",
      "        return xd and yd"
     ],
     "language": "python",
     "metadata": {},
     "outputs": [],
     "prompt_number": 11
    },
    {
     "cell_type": "code",
     "collapsed": false,
     "input": [
      "rect1_1 = rectangle(0, 1.3, 1.57, 2, 5)\n",
      "scene1 = scene()\n",
      "scene1.addObstacle(rect1_1)\n",
      "\n",
      "rect2_1 = rectangle(-0.7,  1.3, 1.57, 2, 5)\n",
      "rect2_2 = rectangle( 4.0, -0.9,    0, 2, 1)\n",
      "rect2_3 = rectangle(-2.6, -0.7,    0, 1, 1)\n",
      "scene2 = scene()\n",
      "scene2.addObstacle(rect2_1)\n",
      "scene2.addObstacle(rect2_2)\n",
      "scene2.addObstacle(rect2_3)"
     ],
     "language": "python",
     "metadata": {},
     "outputs": [],
     "prompt_number": 12
    },
    {
     "cell_type": "code",
     "collapsed": false,
     "input": [
      "rect1_1.isOccupied([0,5.3])"
     ],
     "language": "python",
     "metadata": {},
     "outputs": [
      {
       "metadata": {},
       "output_type": "pyout",
       "prompt_number": 13,
       "text": [
        "False"
       ]
      }
     ],
     "prompt_number": 13
    },
    {
     "cell_type": "code",
     "collapsed": false,
     "input": [
      "def subSample(xy1, xy2, num):\n",
      "    x = np.linspace(xy1[0], xy2[0], num)[1:-1]\n",
      "    y = np.linspace(xy1[1], xy2[1], num)[1:-1]\n",
      "    return np.array([x,y])\n",
      "\n"
     ],
     "language": "python",
     "metadata": {},
     "outputs": [],
     "prompt_number": 19
    },
    {
     "cell_type": "code",
     "collapsed": false,
     "input": [
      "xy = subSample([0,0],[5,5],5)"
     ],
     "language": "python",
     "metadata": {},
     "outputs": [],
     "prompt_number": 20
    },
    {
     "cell_type": "code",
     "collapsed": false,
     "input": [
      "xy"
     ],
     "language": "python",
     "metadata": {},
     "outputs": [
      {
       "metadata": {},
       "output_type": "pyout",
       "prompt_number": 21,
       "text": [
        "array([[ 1.25,  2.5 ,  3.75],\n",
        "       [ 1.25,  2.5 ,  3.75]])"
       ]
      }
     ],
     "prompt_number": 21
    },
    {
     "cell_type": "code",
     "collapsed": false,
     "input": [],
     "language": "python",
     "metadata": {},
     "outputs": []
    }
   ],
   "metadata": {}
  }
 ]
}