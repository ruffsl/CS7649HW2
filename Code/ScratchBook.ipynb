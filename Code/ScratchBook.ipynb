{
 "metadata": {
  "name": "",
  "signature": "sha256:4bf8f2d52b7bb582ffb7685f14da4874b131297f5c376ef3c58ae5e28a1f2d43"
 },
 "nbformat": 3,
 "nbformat_minor": 0,
 "worksheets": [
  {
   "cells": [
    {
     "cell_type": "code",
     "collapsed": false,
     "input": [
      "# import math\n",
      "import numpy as np\n",
      "import matplotlib.patches as patches"
     ],
     "language": "python",
     "metadata": {},
     "outputs": [],
     "prompt_number": 9
    },
    {
     "cell_type": "code",
     "collapsed": false,
     "input": [
      "class scene(): \n",
      "    def __init__(self):\n",
      "        self.obstacles = []\n",
      "        \n",
      "    def addObstacle(self, obstacle):\n",
      "        self.obstacles.append(obstacle)\n",
      "        \n",
      "    def checkForObstacles(xy):\n",
      "        for obstacle in self.obstacles:\n",
      "            if obstacle.isOccupied(xy):\n",
      "                return True\n",
      "        return False"
     ],
     "language": "python",
     "metadata": {},
     "outputs": [],
     "prompt_number": 10
    },
    {
     "cell_type": "code",
     "collapsed": false,
     "input": [
      "class rectangle(): \n",
      "    def __init__(self, x, y, r, w, h):\n",
      "        self.x = x\n",
      "        self.y = y\n",
      "        self.r = r\n",
      "        self.w = w\n",
      "        self.h = h\n",
      "        self.w2 = w/2.0\n",
      "        self.h2 = h/2.0\n",
      "        self.setPatch()\n",
      "    \n",
      "    def isOccupied(self, xy):\n",
      "        x, y = xy\n",
      "        x -= self.x\n",
      "        y -= self.y\n",
      "        \n",
      "        x, y = x*np.cos(self.r) - y*np.sin(self.r), x*np.sin(self.r) + y*np.cos(self.r)\n",
      "        \n",
      "        xd = ((-self.w2) < x) and (x < (self.w2))\n",
      "        yd = ((-self.h2) < y) and (y < (self.h2))\n",
      "        \n",
      "        return xd and yd\n",
      "    \n",
      "    def setPatch(self):\n",
      "        x = -self.w2*np.cos(self.r) + self.h2*np.sin(self.r) + self.x\n",
      "        y = -self.w2*np.sin(self.r) - self.h2*np.cos(self.r) + self.y\n",
      "        self.patch = patches.Rectangle(xy=(x,y), width=self.w, height=self.h, angle=np.rad2deg(self.r), color='r')"
     ],
     "language": "python",
     "metadata": {},
     "outputs": [],
     "prompt_number": 4
    },
    {
     "cell_type": "code",
     "collapsed": false,
     "input": [
      "rect1_1 = rectangle(0, 1.3, 1.57, 2, 5)\n",
      "scene1 = scene()\n",
      "scene1.addObstacle(rect1_1)\n",
      "\n",
      "rect2_1 = rectangle(-0.7,  1.3, 1.57, 2, 5)\n",
      "rect2_2 = rectangle( 4.0, -0.9,    0, 2, 1)\n",
      "rect2_3 = rectangle(-2.6, -0.7,    0, 1, 1)\n",
      "scene2 = scene()\n",
      "scene2.addObstacle(rect2_1)\n",
      "scene2.addObstacle(rect2_2)\n",
      "scene2.addObstacle(rect2_3)"
     ],
     "language": "python",
     "metadata": {},
     "outputs": [],
     "prompt_number": 12
    },
    {
     "cell_type": "code",
     "collapsed": false,
     "input": [
      "rect1_1.isOccupied([0,5.3])"
     ],
     "language": "python",
     "metadata": {},
     "outputs": [
      {
       "metadata": {},
       "output_type": "pyout",
       "prompt_number": 13,
       "text": [
        "False"
       ]
      }
     ],
     "prompt_number": 13
    },
    {
     "cell_type": "code",
     "collapsed": false,
     "input": [
      "# def subSample(xy1, xy2, num):\n",
      "#     x = np.linspace(xy1[0], xy2[0], num)[1:-1]\n",
      "#     y = np.linspace(xy1[1], xy2[1], num)[1:-1]\n",
      "#     return np.array([x,y])\n",
      "# xy = subSample([0,0],[5,5],5)\n",
      "# xy\n"
     ],
     "language": "python",
     "metadata": {},
     "outputs": [],
     "prompt_number": 19
    },
    {
     "cell_type": "code",
     "collapsed": false,
     "input": [
      "# import numpy as np\n",
      "# import matplotlib.pyplot as plt\n",
      "# import matplotlib.patches as patches\n",
      "# import matplotlib as mpl\n",
      "\n",
      "\n",
      "# for obstacle in self.scene.obstacles:\n",
      "#     r2 = patches.Rectangle(xy=(-obstacle.w2,-obstacle.h2), width=obstacle.w, height=obstacle.w)\n",
      "#     offset = mpl.transforms.ScaledTranslation(obstacle.x, obstacle.y, self.fig.dpi_scale_trans)\n",
      "#     tr = mpl.transforms.Affine2D().rotate_deg(np.rad2deg(obstacle.r)) + offset\n",
      "#     r2.set_transform(t2)\n",
      "#     self.ax.add_patch(r2)\n",
      "\n",
      "# plt.show()"
     ],
     "language": "python",
     "metadata": {},
     "outputs": [],
     "prompt_number": 3
    },
    {
     "cell_type": "code",
     "collapsed": false,
     "input": [],
     "language": "python",
     "metadata": {},
     "outputs": []
    }
   ],
   "metadata": {}
  }
 ]
}